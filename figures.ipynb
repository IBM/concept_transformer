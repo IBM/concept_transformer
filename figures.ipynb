{
 "cells": [
  {
   "cell_type": "markdown",
   "id": "f5979207-e667-4f5a-b2ea-71cef271ffce",
   "metadata": {},
   "source": [
    "# ICLR 2022 paper figures"
   ]
  },
  {
   "cell_type": "code",
   "execution_count": 1,
   "id": "9a6176be-b79d-47c9-a4aa-fa00117117ee",
   "metadata": {},
   "outputs": [],
   "source": [
    "import torch\n",
    "from pytorch_lightning import Trainer\n",
    "\n",
    "import matplotlib.pyplot as plt\n",
    "\n",
    "from ctc import load_exp\n",
    "from viz_utils import batch_predict_results, plot_explanation"
   ]
  },
  {
   "cell_type": "markdown",
   "id": "b0d01409-2d0e-4f80-a9ee-3c1f0662d954",
   "metadata": {},
   "source": [
    "## Visualize BinaryMNIST explanations"
   ]
  },
  {
   "cell_type": "code",
   "execution_count": 2,
   "id": "b223388b-5aea-48c0-aa45-e3452e621ec8",
   "metadata": {},
   "outputs": [
    {
     "name": "stderr",
     "output_type": "stream",
     "text": [
      "GPU available: False, used: False\n",
      "TPU available: False, using: 0 TPU cores\n",
      "IPU available: False, using: 0 IPUs\n"
     ]
    },
    {
     "data": {
      "application/vnd.jupyter.widget-view+json": {
       "model_id": "7d707a1da7bc40fa80e900b9cff64589",
       "version_major": 2,
       "version_minor": 0
      },
      "text/plain": [
       "Predicting: 0it [00:00, ?it/s]"
      ]
     },
     "metadata": {},
     "output_type": "display_data"
    }
   ],
   "source": [
    "# Load checkpoint of trained model\n",
    "model, data_module = load_exp('./mnist_ctc/ExplanationMNIST_expl5.0/')\n",
    "results =  batch_predict_results(Trainer().predict(model, data_module))"
   ]
  },
  {
   "cell_type": "code",
   "execution_count": 3,
   "id": "6f64bdda-44b3-4e7d-bb46-cd7a52d45a11",
   "metadata": {},
   "outputs": [],
   "source": [
    "def plot_prediction(idx):\n",
    "    \"\"\"Plots prediction, concept attention scores and ground truth\n",
    "        explanationfor correct predictions\n",
    "    \"\"\"\n",
    "    img = data_module.mnist_test[idx][0].squeeze()\n",
    "\n",
    "    predict_labs = {0: 'even', 1: 'odd'}\n",
    "    correct_labs = {0: 'wrong', 1: 'correct'}\n",
    "\n",
    "    predict = predict_labs[results['preds'][idx].item()]\n",
    "    correct = correct_labs[results['correct'][idx].item()]\n",
    "\n",
    "    fig = plt.figure()\n",
    "    ax1 = plt.subplot(121)\n",
    "    ax1.imshow(img)\n",
    "    ax1.axis('off')\n",
    "    ax1.set_title(f'prediction: {predict} ({correct})')\n",
    "\n",
    "    ax2 = plt.subplot(222)\n",
    "    plot_explanation(results['expl'][idx].view(1,-1), ax2)\n",
    "    ax2.set_title('ground-truth explanation')\n",
    "\n",
    "    ax3 = plt.subplot(224)\n",
    "    plot_explanation(results['concept_attn'][idx].view(1,-1), ax3)\n",
    "    ax3.set_title('concept attention scores')\n",
    "\n",
    "    return fig\n",
    "\n",
    "def plot_wrong_prediction(num):\n",
    "    \"\"\"Plots prediction, concept attention scores and ground truth\n",
    "        explanationfor incorrect predictions\n",
    "    \"\"\"\n",
    "    errors_ind = torch.nonzero(results['correct'] == 0)\n",
    "\n",
    "    idx = errors_ind[num].item()\n",
    "    img = data_module.mnist_test[idx][0].squeeze()\n",
    "\n",
    "    predict_labs = {0: 'even', 1: 'odd'}\n",
    "    correct_labs = {0: 'wrong', 1: 'correct'}\n",
    "\n",
    "    predict = predict_labs[results['preds'][idx].item()]\n",
    "    correct = correct_labs[results['correct'][idx].item()]\n",
    "\n",
    "    fig = plt.figure()\n",
    "    ax1 = plt.subplot(121)\n",
    "    ax1.imshow(img)\n",
    "    ax1.axis('off')\n",
    "    ax1.set_title(f'prediction: {predict} ({correct})')\n",
    "\n",
    "    ax2 = plt.subplot(222)\n",
    "    plot_explanation(results['expl'][idx].view(1,-1), ax2)\n",
    "    ax2.set_title('ground-truth explanation')\n",
    "\n",
    "    ax3 = plt.subplot(224)\n",
    "    plot_explanation(results['concept_attn'][idx].view(1,-1), ax3)\n",
    "    ax3.set_title('concept attention scores')\n",
    "\n",
    "    return fig"
   ]
  },
  {
   "cell_type": "markdown",
   "id": "dd3dddc5",
   "metadata": {},
   "source": [
    "### Example of correct prediction on MNIST eve/odd task:"
   ]
  },
  {
   "cell_type": "code",
   "execution_count": 4,
   "id": "d9ce2261-1a47-42db-956b-2aad521d27c7",
   "metadata": {},
   "outputs": [
    {
     "data": {
      "image/png": "[encoded data removed]",
      "text/plain": [
       "<Figure size 432x288 with 3 Axes>"
      ]
     },
     "metadata": {
      "needs_background": "light"
     },
     "output_type": "display_data"
    }
   ],
   "source": [
    "fig = plot_prediction(0)"
   ]
  },
  {
   "cell_type": "markdown",
   "id": "d798bdf8",
   "metadata": {},
   "source": [
    "A test  sample corresponding to a ‘7’ is correctly labeled as ‘odd’. This prediction is moreover supported by the correct concepts attention consistent with the ground-truth explanation ‘7’. In other words \"*the sample is correctly predicted as ‘odd’, based on the explanation that it is a ‘7’*\"."
   ]
  },
  {
   "cell_type": "markdown",
   "id": "c7bf51dd",
   "metadata": {},
   "source": [
    "### Example of incorrect prediction on MNIST eve/odd task, and diagnosis of the explanation behind the mistake"
   ]
  },
  {
   "cell_type": "code",
   "execution_count": 5,
   "id": "c5217dac-1597-43b5-a568-1c2170e528e5",
   "metadata": {},
   "outputs": [
    {
     "data": {
      "image/png": "[encoded data removed]",
      "text/plain": [
       "<Figure size 432x288 with 3 Axes>"
      ]
     },
     "metadata": {
      "needs_background": "light"
     },
     "output_type": "display_data"
    }
   ],
   "source": [
    "fig = plot_wrong_prediction(42)"
   ]
  },
  {
   "cell_type": "markdown",
   "id": "f45e4f7c",
   "metadata": {},
   "source": [
    "A test  sample corresponding to an ‘8’ is incorrectly labeled as ‘odd’. Looking at the concept attention scores it is possible to **diagnose** the reason behind this mistake: the model identified the sample as being more similar to a '9', which is inconsistent with the ground-truth explanation that the sample is an ‘8’. In other words \"*the sample is incorrectly predicted as ‘odd’, because it is mistakenly confused to be a ‘9’*\"."
   ]
  }
 ],
 "metadata": {
  "kernelspec": {
   "display_name": "Python 3 (ipykernel)",
   "language": "python",
   "name": "python3"
  },
  "language_info": {
   "codemirror_mode": {
    "name": "ipython",
    "version": 3
   },
   "file_extension": ".py",
   "mimetype": "text/x-python",
   "name": "python",
   "nbconvert_exporter": "python",
   "pygments_lexer": "ipython3",
   "version": "3.9.10"
  }
 },
 "nbformat": 4,
 "nbformat_minor": 5
}
